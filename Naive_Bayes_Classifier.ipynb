{
  "nbformat": 4,
  "nbformat_minor": 0,
  "metadata": {
    "colab": {
      "name": "Naive Bayes Classifier.ipynb",
      "provenance": [],
      "collapsed_sections": []
    },
    "kernelspec": {
      "name": "python3",
      "display_name": "Python 3"
    }
  },
  "cells": [
    {
      "cell_type": "markdown",
      "metadata": {
        "id": "NJbMixeWbfSD",
        "colab_type": "text"
      },
      "source": [
        "Formula: P(class|data) = (P(data|class) * P(class)) / P(data)\n",
        "\n",
        "P(class|data) is the probability of class given the provided data."
      ]
    },
    {
      "cell_type": "code",
      "metadata": {
        "id": "8iW5zd_6aa10",
        "colab_type": "code",
        "colab": {
          "base_uri": "https://localhost:8080/",
          "height": 71
        },
        "outputId": "0f80e316-a8db-4a48-a9f4-3cf885e36719"
      },
      "source": [
        "%matplotlib inline\n",
        "import numpy as np\n",
        "import pandas as pd\n",
        "import matplotlib.pyplot as plt\n",
        "import seaborn as sns\n",
        "sns.set()"
      ],
      "execution_count": null,
      "outputs": [
        {
          "output_type": "stream",
          "text": [
            "/usr/local/lib/python3.6/dist-packages/statsmodels/tools/_testing.py:19: FutureWarning: pandas.util.testing is deprecated. Use the functions in the public API at pandas.testing instead.\n",
            "  import pandas.util.testing as tm\n"
          ],
          "name": "stderr"
        }
      ]
    },
    {
      "cell_type": "code",
      "metadata": {
        "id": "vW3DjXiabT7Y",
        "colab_type": "code",
        "colab": {
          "base_uri": "https://localhost:8080/",
          "height": 122
        },
        "outputId": "70cf9180-f48a-4b69-9f4c-ab0e14b32c5a"
      },
      "source": [
        "from google.colab import drive\n",
        "drive.mount('/content/drive')\n",
        "dataset = pd.read_csv('/content/drive/My Drive/ML Datasets/diabetes.csv')"
      ],
      "execution_count": null,
      "outputs": [
        {
          "output_type": "stream",
          "text": [
            "Go to this URL in a browser: https://accounts.google.com/o/oauth2/auth?client_id=947318989803-6bn6qk8qdgf4n4g3pfee6491hc0brc4i.apps.googleusercontent.com&redirect_uri=urn%3aietf%3awg%3aoauth%3a2.0%3aoob&response_type=code&scope=email%20https%3a%2f%2fwww.googleapis.com%2fauth%2fdocs.test%20https%3a%2f%2fwww.googleapis.com%2fauth%2fdrive%20https%3a%2f%2fwww.googleapis.com%2fauth%2fdrive.photos.readonly%20https%3a%2f%2fwww.googleapis.com%2fauth%2fpeopleapi.readonly\n",
            "\n",
            "Enter your authorization code:\n",
            "··········\n",
            "Mounted at /content/drive\n"
          ],
          "name": "stdout"
        }
      ]
    },
    {
      "cell_type": "code",
      "metadata": {
        "id": "CXwx1RdfbWrn",
        "colab_type": "code",
        "colab": {
          "base_uri": "https://localhost:8080/",
          "height": 34
        },
        "outputId": "3fac60f1-ab24-4942-c8bb-6d79a0d54c2a"
      },
      "source": [
        "dataset.keys()"
      ],
      "execution_count": null,
      "outputs": [
        {
          "output_type": "execute_result",
          "data": {
            "text/plain": [
              "Index(['glucose', 'bloodpressure', 'diabetes'], dtype='object')"
            ]
          },
          "metadata": {
            "tags": []
          },
          "execution_count": 3
        }
      ]
    },
    {
      "cell_type": "markdown",
      "metadata": {
        "id": "fJ8_zGMHbnq9",
        "colab_type": "text"
      },
      "source": [
        "# Exploring the Data"
      ]
    },
    {
      "cell_type": "code",
      "metadata": {
        "id": "_MKA7Kski-d-",
        "colab_type": "code",
        "colab": {
          "base_uri": "https://localhost:8080/",
          "height": 187
        },
        "outputId": "cb12721e-902e-4835-f84e-7cad74da65ae"
      },
      "source": [
        "dataset.info()"
      ],
      "execution_count": null,
      "outputs": [
        {
          "output_type": "stream",
          "text": [
            "<class 'pandas.core.frame.DataFrame'>\n",
            "RangeIndex: 995 entries, 0 to 994\n",
            "Data columns (total 3 columns):\n",
            " #   Column         Non-Null Count  Dtype\n",
            "---  ------         --------------  -----\n",
            " 0   glucose        995 non-null    int64\n",
            " 1   bloodpressure  995 non-null    int64\n",
            " 2   diabetes       995 non-null    int64\n",
            "dtypes: int64(3)\n",
            "memory usage: 23.4 KB\n"
          ],
          "name": "stdout"
        }
      ]
    },
    {
      "cell_type": "code",
      "metadata": {
        "id": "qzogzzWdbyGc",
        "colab_type": "code",
        "colab": {
          "base_uri": "https://localhost:8080/",
          "height": 34
        },
        "outputId": "9d47c43a-55a5-41d8-8fb8-fc87b56d3fc1"
      },
      "source": [
        "dataset.shape"
      ],
      "execution_count": null,
      "outputs": [
        {
          "output_type": "execute_result",
          "data": {
            "text/plain": [
              "(995, 3)"
            ]
          },
          "metadata": {
            "tags": []
          },
          "execution_count": 5
        }
      ]
    },
    {
      "cell_type": "code",
      "metadata": {
        "id": "N_Cr39Qsb0HG",
        "colab_type": "code",
        "colab": {
          "base_uri": "https://localhost:8080/",
          "height": 119
        },
        "outputId": "4d9dad46-5b4a-460c-963f-22c240ba5afe"
      },
      "source": [
        "print(dataset[0:5])"
      ],
      "execution_count": null,
      "outputs": [
        {
          "output_type": "stream",
          "text": [
            "   glucose  bloodpressure  diabetes\n",
            "0       40             85         0\n",
            "1       40             92         0\n",
            "2       45             63         1\n",
            "3       45             80         0\n",
            "4       40             73         1\n"
          ],
          "name": "stdout"
        }
      ]
    },
    {
      "cell_type": "code",
      "metadata": {
        "id": "j25KY2wEb2Hk",
        "colab_type": "code",
        "colab": {
          "base_uri": "https://localhost:8080/",
          "height": 34
        },
        "outputId": "930621c9-2b4b-49ea-8ad5-b47437f01a9d"
      },
      "source": [
        "dataset.columns"
      ],
      "execution_count": null,
      "outputs": [
        {
          "output_type": "execute_result",
          "data": {
            "text/plain": [
              "Index(['glucose', 'bloodpressure', 'diabetes'], dtype='object')"
            ]
          },
          "metadata": {
            "tags": []
          },
          "execution_count": 7
        }
      ]
    },
    {
      "cell_type": "markdown",
      "metadata": {
        "id": "GfruCZi0cCSK",
        "colab_type": "text"
      },
      "source": [
        "# Splitting the Data"
      ]
    },
    {
      "cell_type": "code",
      "metadata": {
        "id": "SNC6_z6Hb506",
        "colab_type": "code",
        "colab": {
          "base_uri": "https://localhost:8080/",
          "height": 34
        },
        "outputId": "531f657d-fa27-4069-f389-434f5f784e0e"
      },
      "source": [
        "from sklearn.model_selection import train_test_split\n",
        "\n",
        "# Split dataset into training set and test set, we train on 80% data and test on the remaining 20%\n",
        "X=dataset.drop(axis=1,labels=\"diabetes\")\n",
        "y=dataset.diabetes.values\n",
        "X_train, X_test, y_train, y_test = train_test_split(X,y, test_size=0.2,random_state=1) \n",
        "print(X_train.shape,y_train.shape)"
      ],
      "execution_count": null,
      "outputs": [
        {
          "output_type": "stream",
          "text": [
            "(796, 2) (796,)\n"
          ],
          "name": "stdout"
        }
      ]
    },
    {
      "cell_type": "markdown",
      "metadata": {
        "id": "sCeGF0U0cM10",
        "colab_type": "text"
      },
      "source": [
        "# Model Generation\n",
        "\n",
        "We will use the Gaussian Naive Bayes model on the dataset"
      ]
    },
    {
      "cell_type": "code",
      "metadata": {
        "id": "fq72AR1NcUx7",
        "colab_type": "code",
        "colab": {
          "base_uri": "https://localhost:8080/",
          "height": 34
        },
        "outputId": "36ae46df-c9fe-4dc2-a36a-f828ef28d446"
      },
      "source": [
        "#Import Gaussian Naive Bayes model\n",
        "from sklearn.naive_bayes import GaussianNB\n",
        "\n",
        "#Create a Gaussian Classifier\n",
        "gnb = GaussianNB()\n",
        "\n",
        "#Train the model using the training sets\n",
        "gnb.fit(X_train, y_train)"
      ],
      "execution_count": null,
      "outputs": [
        {
          "output_type": "execute_result",
          "data": {
            "text/plain": [
              "GaussianNB(priors=None, var_smoothing=1e-09)"
            ]
          },
          "metadata": {
            "tags": []
          },
          "execution_count": 60
        }
      ]
    },
    {
      "cell_type": "markdown",
      "metadata": {
        "id": "ZOu1qeBdciAf",
        "colab_type": "text"
      },
      "source": [
        "# Model Analysis"
      ]
    },
    {
      "cell_type": "code",
      "metadata": {
        "id": "-nIUS_NUcaIK",
        "colab_type": "code",
        "colab": {}
      },
      "source": [
        "#Predict the response for test dataset\n",
        "y_pred = gnb.predict(X_test)\n",
        "\n",
        "#Import scikit-learn metrics module for accuracy calculation\n",
        "from sklearn import metrics"
      ],
      "execution_count": null,
      "outputs": []
    },
    {
      "cell_type": "markdown",
      "metadata": {
        "id": "jYhNNTaGczlu",
        "colab_type": "text"
      },
      "source": [
        "# Accuracy\n",
        "Tells us how good/bad the prediction is based on a scale from 0 to 1\n",
        "\n",
        "$Accuray = \\dfrac{TP+ TN}{TP+TN +FP+FN}$\n",
        "\n",
        "TP: True Positive i.e predicted same as actual and is the correct class (presence)\n",
        "\n",
        "TN: True Negative (i.e predicted same as actual and is the correct class (absence)\n",
        "\n",
        "FP: False Positive (actual is negative but presence of class is predicted)\n",
        "\n",
        "FN: False Negative (actually presence of class but not predicted)"
      ]
    },
    {
      "cell_type": "code",
      "metadata": {
        "id": "I0BM_jMTcy8X",
        "colab_type": "code",
        "colab": {
          "base_uri": "https://localhost:8080/",
          "height": 34
        },
        "outputId": "e0692e27-b1c6-4ca8-aacf-41d789162456"
      },
      "source": [
        "# Model Accuracy, how often is the classifier correct?\n",
        "print(\"Accuracy:\",metrics.accuracy_score(y_test, y_pred))"
      ],
      "execution_count": null,
      "outputs": [
        {
          "output_type": "stream",
          "text": [
            "Accuracy: 0.9396984924623115\n"
          ],
          "name": "stdout"
        }
      ]
    },
    {
      "cell_type": "markdown",
      "metadata": {
        "id": "f2v1fJ8kdARH",
        "colab_type": "text"
      },
      "source": [
        "# Confusion Matrix\n",
        "A confusion matrix is a summary of prediction results on a classification problem. The number of correct and incorrect predictions are summarized with count values and broken down by each class. Basically it gives us insight not only into the errors being made by a classifier but more importantly the types of errors that are being made."
      ]
    },
    {
      "cell_type": "code",
      "metadata": {
        "id": "OHU1NBxac902",
        "colab_type": "code",
        "colab": {
          "base_uri": "https://localhost:8080/",
          "height": 51
        },
        "outputId": "a0896323-720a-41d8-e604-0f8367d8f357"
      },
      "source": [
        "from sklearn.metrics import confusion_matrix\n",
        "confusion_matrix(y_test, y_pred)"
      ],
      "execution_count": null,
      "outputs": [
        {
          "output_type": "execute_result",
          "data": {
            "text/plain": [
              "array([[97,  3],\n",
              "       [ 9, 90]])"
            ]
          },
          "metadata": {
            "tags": []
          },
          "execution_count": 63
        }
      ]
    },
    {
      "cell_type": "code",
      "metadata": {
        "id": "J3OcM9MbwdJC",
        "colab_type": "code",
        "colab": {
          "base_uri": "https://localhost:8080/",
          "height": 358
        },
        "outputId": "f6e43b6d-bdb3-4b6f-aea4-de7483cf4f4e"
      },
      "source": [
        "label_code = [0,1,2]\n",
        "label_name = ['glucose','bloodpressure','diabetes'] \n",
        "label_map = {0:'glucose',1:'bloodpressure',2:'diabetes'}\n",
        "y_test = [label_map[code] for code in y_test]\n",
        "y_pred = [label_map[code] for code in y_pred]\n",
        "cm = confusion_matrix(y_test, y_pred, label_name)\n",
        "print(cm)\n",
        "fig = plt.figure()\n",
        "ax = fig.add_subplot(111)\n",
        "cax = ax.matshow(cm)\n",
        "plt.title('Confusion matrix\\n')\n",
        "fig.colorbar(cax)\n",
        "ax.set_xticklabels([''] + label_name)\n",
        "ax.set_yticklabels([''] + label_name)\n",
        "plt.xlabel('Predicted')\n",
        "plt.ylabel('True')\n",
        "plt.show()"
      ],
      "execution_count": null,
      "outputs": [
        {
          "output_type": "stream",
          "text": [
            "[[97  3  0]\n",
            " [ 9 90  0]\n",
            " [ 0  0  0]]\n"
          ],
          "name": "stdout"
        },
        {
          "output_type": "display_data",
          "data": {
            "image/png": "[encoded data removed]",
            "text/plain": [
              "<Figure size 432x288 with 2 Axes>"
            ]
          },
          "metadata": {
            "tags": [],
            "needs_background": "light"
          }
        }
      ]
    },
    {
      "cell_type": "markdown",
      "metadata": {
        "id": "aSzHCttkdroC",
        "colab_type": "text"
      },
      "source": [
        "# Recall\n",
        "Recall can be defined as the ratio of the total number of correctly classified positive examples divide to the total number of positive examples. High Recall indicates the class is correctly recognized (a small number of FN)."
      ]
    },
    {
      "cell_type": "code",
      "metadata": {
        "id": "3J0a6R0Idnss",
        "colab_type": "code",
        "colab": {
          "base_uri": "https://localhost:8080/",
          "height": 34
        },
        "outputId": "4520dd58-d6f1-4451-db5b-9b81a8698b3a"
      },
      "source": [
        "from sklearn.metrics import recall_score\n",
        "recall = recall_score(y_test, y_pred, average=None)\n",
        "print(recall)"
      ],
      "execution_count": null,
      "outputs": [
        {
          "output_type": "stream",
          "text": [
            "[0.97       0.90909091]\n"
          ],
          "name": "stdout"
        }
      ]
    },
    {
      "cell_type": "markdown",
      "metadata": {
        "id": "0td01yntdyp1",
        "colab_type": "text"
      },
      "source": [
        "# Precision\n",
        "Ratio of total number of correctly classified positive examples to the total number of predicted positive examples."
      ]
    },
    {
      "cell_type": "code",
      "metadata": {
        "id": "icY95y1_dvk_",
        "colab_type": "code",
        "colab": {
          "base_uri": "https://localhost:8080/",
          "height": 34
        },
        "outputId": "678bf702-6d52-4ba1-aca4-2643a93052f1"
      },
      "source": [
        "from sklearn.metrics import precision_score\n",
        "precision = precision_score(y_test, y_pred, average=None)\n",
        "print(precision)"
      ],
      "execution_count": null,
      "outputs": [
        {
          "output_type": "stream",
          "text": [
            "[0.91509434 0.96774194]\n"
          ],
          "name": "stdout"
        }
      ]
    },
    {
      "cell_type": "markdown",
      "metadata": {
        "id": "BhVp5J3wd4vd",
        "colab_type": "text"
      },
      "source": [
        "#F-Score\n",
        "F-measure is Harmonic Mean of precision and recall.\n",
        "The F-Measure will always be nearer to the smaller value of Precision or Recal\n",
        "\n",
        "$F1Score = \\dfrac{2*recall*precision}{Recall+Precision}$"
      ]
    },
    {
      "cell_type": "code",
      "metadata": {
        "id": "sYWP3GkFd7ZX",
        "colab_type": "code",
        "colab": {
          "base_uri": "https://localhost:8080/",
          "height": 34
        },
        "outputId": "002a2556-4cfc-41b5-fe13-4580bfb8fc68"
      },
      "source": [
        "F1 = 2 * (precision * recall) / (precision + recall)\n",
        "print(F1)"
      ],
      "execution_count": null,
      "outputs": [
        {
          "output_type": "stream",
          "text": [
            "[0.94174757 0.9375    ]\n"
          ],
          "name": "stdout"
        }
      ]
    }
  ]
}