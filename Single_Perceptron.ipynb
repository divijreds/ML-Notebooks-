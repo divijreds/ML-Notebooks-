{
  "nbformat": 4,
  "nbformat_minor": 0,
  "metadata": {
    "colab": {
      "name": "Single Perceptron.ipynb",
      "provenance": [],
      "collapsed_sections": []
    },
    "kernelspec": {
      "name": "python3",
      "display_name": "Python 3"
    }
  },
  "cells": [
    {
      "cell_type": "markdown",
      "metadata": {
        "id": "2QOnWlCtAUoz",
        "colab_type": "text"
      },
      "source": [
        "<center><h1>Single Perceptron"
      ]
    },
    {
      "cell_type": "code",
      "metadata": {
        "id": "iWCg1CgM4ymb",
        "colab_type": "code",
        "colab": {}
      },
      "source": [
        "import numpy as np"
      ],
      "execution_count": null,
      "outputs": []
    },
    {
      "cell_type": "code",
      "metadata": {
        "id": "v9kHy118Aj_O",
        "colab_type": "code",
        "colab": {}
      },
      "source": [
        "class Perceptron(object):\n",
        "\n",
        "    def __init__(self, no_of_inputs, threshold=10, learning_rate=0.01):\n",
        "        self.threshold = threshold\n",
        "        self.learning_rate = learning_rate\n",
        "        self.weights = np.zeros(no_of_inputs + 1)\n",
        "           \n",
        "    #Make prediction, here we are using a simple threshold of greater than zero for our activation function\n",
        "    def predict(self, inputs):\n",
        "        summation = np.dot(inputs, self.weights[1:]) + self.weights[0]\n",
        "        if summation > 0:\n",
        "          activation = 1\n",
        "        else:\n",
        "          activation = 0            \n",
        "        return activation\n",
        "#Train on the input data\n",
        "    def train(self, training_inputs, labels):\n",
        "        for i in range(self.threshold):\n",
        "            for inputs, label in zip(training_inputs, labels):\n",
        "                prediction = self.predict(inputs)\n",
        "                self.weights[1:] += self.learning_rate * (label - prediction) * inputs\n",
        "\n",
        "                self.weights[0] += self.learning_rate * (label - prediction)"
      ],
      "execution_count": null,
      "outputs": []
    },
    {
      "cell_type": "code",
      "metadata": {
        "id": "Nx4MHdwYAzWr",
        "colab_type": "code",
        "colab": {}
      },
      "source": [
        "#Create training data\n",
        "training_inputs = []\n",
        "training_inputs.append(np.array([1, 1]))\n",
        "training_inputs.append(np.array([1, 0]))\n",
        "training_inputs.append(np.array([0, 1]))\n",
        "training_inputs.append(np.array([0, 0]))\n",
        "\n",
        "#Adding Labels\n",
        "labels = np.array([1, 0, 0, 0])"
      ],
      "execution_count": null,
      "outputs": []
    },
    {
      "cell_type": "markdown",
      "metadata": {
        "id": "UiHrLFrRtImL",
        "colab_type": "text"
      },
      "source": [
        "Play around with alpha and threshold/iteration values to see if something changes with the prediction"
      ]
    },
    {
      "cell_type": "code",
      "metadata": {
        "id": "pm8gqYW1A5uI",
        "colab_type": "code",
        "colab": {}
      },
      "source": [
        "perceptron = Perceptron(2,100,1)"
      ],
      "execution_count": null,
      "outputs": []
    },
    {
      "cell_type": "code",
      "metadata": {
        "id": "JeBKWa4vLr8K",
        "colab_type": "code",
        "colab": {}
      },
      "source": [
        "perceptron.train(training_inputs, labels)"
      ],
      "execution_count": null,
      "outputs": []
    },
    {
      "cell_type": "code",
      "metadata": {
        "id": "JCZW5yahLvTI",
        "colab_type": "code",
        "colab": {
          "base_uri": "https://localhost:8080/",
          "height": 34
        },
        "outputId": "fa2a6990-b814-443e-81bf-9474060b458e"
      },
      "source": [
        "inputs = np.array([1, 1])\n",
        "print(perceptron.predict(inputs))"
      ],
      "execution_count": null,
      "outputs": [
        {
          "output_type": "stream",
          "text": [
            "1\n"
          ],
          "name": "stdout"
        }
      ]
    },
    {
      "cell_type": "code",
      "metadata": {
        "id": "6P-JTsxoL6_R",
        "colab_type": "code",
        "colab": {
          "base_uri": "https://localhost:8080/",
          "height": 34
        },
        "outputId": "7d8fd84d-808c-4b8b-818e-41da95bbc2c3"
      },
      "source": [
        "inputs = np.array([0, 1])\n",
        "print(perceptron.predict(inputs) )"
      ],
      "execution_count": null,
      "outputs": [
        {
          "output_type": "stream",
          "text": [
            "0\n"
          ],
          "name": "stdout"
        }
      ]
    },
    {
      "cell_type": "code",
      "metadata": {
        "id": "tE3p0T3yL9Ws",
        "colab_type": "code",
        "colab": {
          "base_uri": "https://localhost:8080/",
          "height": 34
        },
        "outputId": "9127f7a2-fd4b-414b-fe63-5a04dbb8fbef"
      },
      "source": [
        "inputs = np.array([-5, 1])\n",
        "print(perceptron.predict(inputs) )"
      ],
      "execution_count": null,
      "outputs": [
        {
          "output_type": "stream",
          "text": [
            "0\n"
          ],
          "name": "stdout"
        }
      ]
    },
    {
      "cell_type": "markdown",
      "metadata": {
        "id": "g9Rlb-C9taJF",
        "colab_type": "text"
      },
      "source": [
        "**Can you generate a OR gate in the same manner?**"
      ]
    },
    {
      "cell_type": "code",
      "metadata": {
        "id": "FQ13zOXsMv2k",
        "colab_type": "code",
        "colab": {}
      },
      "source": [
        "training_inputs = []\n",
        "training_inputs.append(np.array([1, 1]))\n",
        "training_inputs.append(np.array([1, 0]))\n",
        "training_inputs.append(np.array([0, 1]))\n",
        "training_inputs.append(np.array([0, 0]))\n",
        "\n",
        "#Adding Labels\n",
        "labels = np.array([1, 1, 1, 0])\n"
      ],
      "execution_count": null,
      "outputs": []
    },
    {
      "cell_type": "code",
      "metadata": {
        "id": "WdxkWiiZtiXS",
        "colab_type": "code",
        "colab": {}
      },
      "source": [
        "perceptron = Perceptron(2,100,1)"
      ],
      "execution_count": null,
      "outputs": []
    },
    {
      "cell_type": "code",
      "metadata": {
        "id": "t4CBtxODM2ME",
        "colab_type": "code",
        "colab": {}
      },
      "source": [
        "perceptron.train(training_inputs, labels)"
      ],
      "execution_count": null,
      "outputs": []
    },
    {
      "cell_type": "code",
      "metadata": {
        "id": "rtJbSOJuM3v9",
        "colab_type": "code",
        "colab": {
          "base_uri": "https://localhost:8080/",
          "height": 34
        },
        "outputId": "86b906b8-274a-43d0-c1ad-148a4dd37091"
      },
      "source": [
        "inputs = np.array([1, 1])\n",
        "print(perceptron.predict(inputs))"
      ],
      "execution_count": null,
      "outputs": [
        {
          "output_type": "stream",
          "text": [
            "1\n"
          ],
          "name": "stdout"
        }
      ]
    },
    {
      "cell_type": "code",
      "metadata": {
        "id": "92AK8DHLNJsZ",
        "colab_type": "code",
        "colab": {
          "base_uri": "https://localhost:8080/",
          "height": 34
        },
        "outputId": "bf33fbb8-2c72-458d-a70a-0b17e6b6cbf3"
      },
      "source": [
        "inputs = np.array([0, 1])\n",
        "print(perceptron.predict(inputs) )"
      ],
      "execution_count": null,
      "outputs": [
        {
          "output_type": "stream",
          "text": [
            "1\n"
          ],
          "name": "stdout"
        }
      ]
    },
    {
      "cell_type": "code",
      "metadata": {
        "id": "Y_yA4uZmtnnJ",
        "colab_type": "code",
        "colab": {
          "base_uri": "https://localhost:8080/",
          "height": 34
        },
        "outputId": "4510ddca-801e-4efb-9345-c4ce9979a277"
      },
      "source": [
        "inputs = np.array([1, 0])\n",
        "print(perceptron.predict(inputs) )"
      ],
      "execution_count": null,
      "outputs": [
        {
          "output_type": "stream",
          "text": [
            "1\n"
          ],
          "name": "stdout"
        }
      ]
    },
    {
      "cell_type": "code",
      "metadata": {
        "id": "AxHI-CNqNcws",
        "colab_type": "code",
        "colab": {
          "base_uri": "https://localhost:8080/",
          "height": 34
        },
        "outputId": "ad10abb2-3b55-474c-93d4-13b88fc73d07"
      },
      "source": [
        "inputs = np.array([0, 0])\n",
        "print(perceptron.predict(inputs) )"
      ],
      "execution_count": null,
      "outputs": [
        {
          "output_type": "stream",
          "text": [
            "0\n"
          ],
          "name": "stdout"
        }
      ]
    },
    {
      "cell_type": "markdown",
      "metadata": {
        "id": "dIWpxllItsff",
        "colab_type": "text"
      },
      "source": [
        "Try creating an xnor gate too.\n",
        "\n",
        "What additional changes does XNOR need?"
      ]
    },
    {
      "cell_type": "markdown",
      "metadata": {
        "id": "11tlOUswtuaJ",
        "colab_type": "text"
      },
      "source": [
        "We can't implement XNOR gate in simple perceptron so we need to implement multiple perceptron to implement XNOR. We need to use combination of NOT,AND, and OR gate to create multi layer neural network."
      ]
    },
    {
      "cell_type": "markdown",
      "metadata": {
        "id": "1XH-bAiXtzRS",
        "colab_type": "text"
      },
      "source": [
        "**Implement Sigmoid Function as an activation function.**"
      ]
    },
    {
      "cell_type": "code",
      "metadata": {
        "id": "puTF46J_tw18",
        "colab_type": "code",
        "colab": {}
      },
      "source": [
        "import math\n",
        "import numpy as np\n",
        "import matplotlib.pyplot as plt\n",
        "class Perceptron(object):\n",
        "    def __init__(self, no_of_inputs, threshold=100, learning_rate=0.01):\n",
        "        self.threshold = threshold\n",
        "        self.learning_rate = learning_rate\n",
        "        self.weights = np.zeros(no_of_inputs + 1)\n",
        "           \n",
        "    def predict(self, inputs):\n",
        "        summation = np.dot(inputs, self.weights[1:]) + self.weights[0]\n",
        "        a = []\n",
        "        for item in inputs:\n",
        "          a.append(1/(1+math.exp(-item)))\n",
        "        sigmoidfunc = (1/(1+pow(2.71828,-summation)))\n",
        "        plt.plot(inputs, a)\n",
        "        plt.axvline(0.0, color='k')\n",
        "        plt.ylim(-0.1, 1.1)\n",
        "        plt.xlabel('x')\n",
        "        plt.ylabel('y')\n",
        "\n",
        "        if sigmoidfunc > 0.5:\n",
        "          activation = 1\n",
        "        else:\n",
        "          activation = 0            \n",
        "        return activation\n",
        "    def train(self, training_inputs, labels):\n",
        "        for _ in range(self.threshold):\n",
        "            for inputs, label in zip(training_inputs, labels):\n",
        "                prediction = self.predict(inputs)\n",
        "                self.weights[1:] += self.learning_rate * (label - prediction) * inputs\n",
        "                self.weights[0] += self.learning_rate * (label - prediction)"
      ],
      "execution_count": null,
      "outputs": []
    },
    {
      "cell_type": "code",
      "metadata": {
        "id": "-l_pfImruA7D",
        "colab_type": "code",
        "colab": {}
      },
      "source": [
        "training_inputs = []\n",
        "training_inputs.append(np.array([1, 1]))\n",
        "training_inputs.append(np.array([1, 0]))\n",
        "training_inputs.append(np.array([0, 1]))\n",
        "training_inputs.append(np.array([0, 0]))\n",
        "labels = np.array([1, 0, 0, 0])"
      ],
      "execution_count": null,
      "outputs": []
    },
    {
      "cell_type": "code",
      "metadata": {
        "id": "yiCmLnrMuCpS",
        "colab_type": "code",
        "colab": {
          "base_uri": "https://localhost:8080/",
          "height": 296
        },
        "outputId": "659faed3-0911-40c2-bcf5-fa09c7362836"
      },
      "source": [
        "perceptron = Perceptron(2,100,0.01)\n",
        "perceptron.train(training_inputs, labels)\n",
        "inputs = np.array([1, 1])\n",
        "print(perceptron.predict(inputs))"
      ],
      "execution_count": null,
      "outputs": [
        {
          "output_type": "stream",
          "text": [
            "1\n"
          ],
          "name": "stdout"
        },
        {
          "output_type": "display_data",
          "data": {
            "image/png": "[encoded data removed]",
            "text/plain": [
              "<Figure size 432x288 with 1 Axes>"
            ]
          },
          "metadata": {
            "tags": [],
            "needs_background": "light"
          }
        }
      ]
    },
    {
      "cell_type": "code",
      "metadata": {
        "id": "5nO5CPIMuESQ",
        "colab_type": "code",
        "colab": {
          "base_uri": "https://localhost:8080/",
          "height": 296
        },
        "outputId": "66750fc1-2a6e-4693-8d2d-42eca85c4264"
      },
      "source": [
        "inputs = np.array([0, 1])\n",
        "print(perceptron.predict(inputs) )"
      ],
      "execution_count": null,
      "outputs": [
        {
          "output_type": "stream",
          "text": [
            "0\n"
          ],
          "name": "stdout"
        },
        {
          "output_type": "display_data",
          "data": {
            "image/png": "[encoded data removed]",
            "text/plain": [
              "<Figure size 432x288 with 1 Axes>"
            ]
          },
          "metadata": {
            "tags": [],
            "needs_background": "light"
          }
        }
      ]
    },
    {
      "cell_type": "code",
      "metadata": {
        "id": "6IwkykqauGQD",
        "colab_type": "code",
        "colab": {
          "base_uri": "https://localhost:8080/",
          "height": 296
        },
        "outputId": "342fcfc9-b3cb-4799-c03d-78d98df6f3f6"
      },
      "source": [
        "inputs = np.array([1, 0])\n",
        "print(perceptron.predict(inputs) )"
      ],
      "execution_count": null,
      "outputs": [
        {
          "output_type": "stream",
          "text": [
            "0\n"
          ],
          "name": "stdout"
        },
        {
          "output_type": "display_data",
          "data": {
            "image/png": "[encoded data removed]",
            "text/plain": [
              "<Figure size 432x288 with 1 Axes>"
            ]
          },
          "metadata": {
            "tags": [],
            "needs_background": "light"
          }
        }
      ]
    },
    {
      "cell_type": "code",
      "metadata": {
        "id": "yL6OExZYuIDH",
        "colab_type": "code",
        "colab": {
          "base_uri": "https://localhost:8080/",
          "height": 296
        },
        "outputId": "357556b3-131d-48bd-b213-667f0511c701"
      },
      "source": [
        "inputs = np.array([0, 0])\n",
        "print(perceptron.predict(inputs) )"
      ],
      "execution_count": null,
      "outputs": [
        {
          "output_type": "stream",
          "text": [
            "0\n"
          ],
          "name": "stdout"
        },
        {
          "output_type": "display_data",
          "data": {
            "image/png": "[encoded data removed]",
            "text/plain": [
              "<Figure size 432x288 with 1 Axes>"
            ]
          },
          "metadata": {
            "tags": [],
            "needs_background": "light"
          }
        }
      ]
    }
  ]
}